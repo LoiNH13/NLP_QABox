{
  "nbformat": 4,
  "nbformat_minor": 0,
  "metadata": {
    "colab": {
      "name": "TF_idf.ipynb",
      "provenance": []
    },
    "kernelspec": {
      "name": "python3",
      "display_name": "Python 3"
    },
    "language_info": {
      "name": "python"
    }
  },
  "cells": [
    {
      "cell_type": "code",
      "metadata": {
        "colab": {
          "base_uri": "https://localhost:8080/"
        },
        "id": "7eGku9vcO3Eg",
        "outputId": "95dba7ea-6dce-4222-ed92-1610522059e4"
      },
      "source": [
        "pip install pyvi"
      ],
      "execution_count": 3,
      "outputs": [
        {
          "output_type": "stream",
          "text": [
            "Collecting pyvi\n",
            "\u001b[?25l  Downloading https://files.pythonhosted.org/packages/10/e1/0e5bc6b5e3327b9385d6e0f1b0a7c0404f28b74eb6db59a778515b30fd9c/pyvi-0.1-py2.py3-none-any.whl (8.5MB)\n",
            "\u001b[K     |████████████████████████████████| 8.5MB 8.1MB/s \n",
            "\u001b[?25hCollecting sklearn-crfsuite\n",
            "  Downloading https://files.pythonhosted.org/packages/25/74/5b7befa513482e6dee1f3dd68171a6c9dfc14c0eaa00f885ffeba54fe9b0/sklearn_crfsuite-0.3.6-py2.py3-none-any.whl\n",
            "Requirement already satisfied: scikit-learn in /usr/local/lib/python3.7/dist-packages (from pyvi) (0.22.2.post1)\n",
            "Collecting python-crfsuite>=0.8.3\n",
            "\u001b[?25l  Downloading https://files.pythonhosted.org/packages/79/47/58f16c46506139f17de4630dbcfb877ce41a6355a1bbf3c443edb9708429/python_crfsuite-0.9.7-cp37-cp37m-manylinux1_x86_64.whl (743kB)\n",
            "\u001b[K     |████████████████████████████████| 747kB 62.0MB/s \n",
            "\u001b[?25hRequirement already satisfied: tabulate in /usr/local/lib/python3.7/dist-packages (from sklearn-crfsuite->pyvi) (0.8.9)\n",
            "Requirement already satisfied: tqdm>=2.0 in /usr/local/lib/python3.7/dist-packages (from sklearn-crfsuite->pyvi) (4.41.1)\n",
            "Requirement already satisfied: six in /usr/local/lib/python3.7/dist-packages (from sklearn-crfsuite->pyvi) (1.15.0)\n",
            "Requirement already satisfied: numpy>=1.11.0 in /usr/local/lib/python3.7/dist-packages (from scikit-learn->pyvi) (1.19.5)\n",
            "Requirement already satisfied: scipy>=0.17.0 in /usr/local/lib/python3.7/dist-packages (from scikit-learn->pyvi) (1.4.1)\n",
            "Requirement already satisfied: joblib>=0.11 in /usr/local/lib/python3.7/dist-packages (from scikit-learn->pyvi) (1.0.1)\n",
            "Installing collected packages: python-crfsuite, sklearn-crfsuite, pyvi\n",
            "Successfully installed python-crfsuite-0.9.7 pyvi-0.1 sklearn-crfsuite-0.3.6\n"
          ],
          "name": "stdout"
        }
      ]
    },
    {
      "cell_type": "code",
      "metadata": {
        "id": "FrKZmklQOgTQ"
      },
      "source": [
        "\n",
        "import nltk\n",
        "import numpy as np\n",
        "from pyvi import ViTokenizer\n"
      ],
      "execution_count": 7,
      "outputs": []
    },
    {
      "cell_type": "code",
      "metadata": {
        "id": "9c8mva4fOhPO"
      },
      "source": [
        "file_tranning = ['bạn bè.txt',\n",
        "'các câu hỏi phức tạp.txt',\n",
        "'đất nước.txt',\n",
        "'địa chỉ.txt',\n",
        "'du lịch.txt',\n",
        "'gia đình.txt',\n",
        "'giải trí.txt',\n",
        "'học tập.txt',\n",
        "'nghề nghiệp.txt',\n",
        "'nghỉ lễ.txt',\n",
        "'người yêu.txt',\n",
        "'robot.txt',\n",
        "'shoping.txt',\n",
        "'tán gẫu.txt',\n",
        "'tdtu.txt',\n",
        "'thông tin cá nhân.txt',\n",
        "'trò chuyện về đi ăn.txt']"
      ],
      "execution_count": 8,
      "outputs": []
    },
    {
      "cell_type": "code",
      "metadata": {
        "id": "FYZfok4aO68n"
      },
      "source": [
        "question_train = []\n",
        "answer_train = []\n",
        "for i in range(len(file_tranning)):\n",
        "    with open(file_tranning[i], encoding='UTF-8') as f:\n",
        "        train_lines = f.readlines()\n",
        "        for line in train_lines:\n",
        "            tmp = line.split(\"__eou__\")\n",
        "            question_train.append(tmp[0].strip()) # strip(): Loại bỏ whitespace đầu cuối string\n",
        "            answer_train.append(tmp[1].strip())"
      ],
      "execution_count": 9,
      "outputs": []
    },
    {
      "cell_type": "code",
      "metadata": {
        "id": "3Utuuhl3PIQe"
      },
      "source": [
        "for i in range(len(question_train)):\n",
        "    question_train[i] = ViTokenizer.tokenize(question_train[i])\n",
        "    answer_train[i] = ViTokenizer.tokenize(answer_train[i])"
      ],
      "execution_count": 10,
      "outputs": []
    },
    {
      "cell_type": "code",
      "metadata": {
        "id": "pOysqPNQPKvA"
      },
      "source": [
        "import string\n",
        "my_punctuation = (string.punctuation).replace(\"_\",\"\")"
      ],
      "execution_count": 11,
      "outputs": []
    },
    {
      "cell_type": "code",
      "metadata": {
        "id": "NAdiFey7PnzP"
      },
      "source": [
        "def text_process(mess):\n",
        "#     STOPWORDS = stopwords\n",
        "    nopunc = [char for char in mess if char not in my_punctuation]\n",
        "#     nopunc = ''.join(nopunc)\n",
        "    return  ''.join(nopunc)\n",
        "#     return ' '.join([word for word in nopunc.split() if word.lower() not in STOPWORDS])"
      ],
      "execution_count": 12,
      "outputs": []
    },
    {
      "cell_type": "code",
      "metadata": {
        "id": "38UF-_7SPskN"
      },
      "source": [
        "for i in range(len(question_train)):\n",
        "    question_train[i] = text_process(question_train[i])\n",
        "    answer_train[i] = text_process(answer_train[i])"
      ],
      "execution_count": 13,
      "outputs": []
    },
    {
      "cell_type": "code",
      "metadata": {
        "colab": {
          "base_uri": "https://localhost:8080/"
        },
        "id": "vxyYjKE4Puzp",
        "outputId": "8581a7c3-dd9c-44bf-95b3-567238702ce0"
      },
      "source": [
        "print(question_train[0])\n",
        "print(answer_train[0])"
      ],
      "execution_count": 14,
      "outputs": [
        {
          "output_type": "stream",
          "text": [
            "Thích đánh_lộn không \n",
            "Ngon nhà_vô\n"
          ],
          "name": "stdout"
        }
      ]
    },
    {
      "cell_type": "code",
      "metadata": {
        "colab": {
          "base_uri": "https://localhost:8080/"
        },
        "id": "I-diNgNtP4fJ",
        "outputId": "1bf803b2-b6b9-41b0-c023-fe965b6d0eea"
      },
      "source": [
        "nltk.download('punkt')"
      ],
      "execution_count": 16,
      "outputs": [
        {
          "output_type": "stream",
          "text": [
            "[nltk_data] Downloading package punkt to /root/nltk_data...\n",
            "[nltk_data]   Unzipping tokenizers/punkt.zip.\n"
          ],
          "name": "stdout"
        },
        {
          "output_type": "execute_result",
          "data": {
            "text/plain": [
              "True"
            ]
          },
          "metadata": {
            "tags": []
          },
          "execution_count": 16
        }
      ]
    },
    {
      "cell_type": "code",
      "metadata": {
        "id": "76Tjj1INPxB9"
      },
      "source": [
        "from nltk import word_tokenize\n",
        "sents=[]\n",
        "for i in range(len(question_train)):\n",
        "    tokens = word_tokenize(question_train[i])\n",
        "    sents.append(tokens)"
      ],
      "execution_count": 17,
      "outputs": []
    },
    {
      "cell_type": "code",
      "metadata": {
        "colab": {
          "base_uri": "https://localhost:8080/"
        },
        "id": "bIAaR-D_P12g",
        "outputId": "327b807d-2e40-4e37-85ab-9ca53155e241"
      },
      "source": [
        "print(sents[:5])"
      ],
      "execution_count": 18,
      "outputs": [
        {
          "output_type": "stream",
          "text": [
            "[['Thích', 'đánh_lộn', 'không'], ['Solo', 'yasua', 'không'], ['Mai', 'đi', 'picnic', 'không'], ['Mai', 'học', 'ca', 'mấy', 'vậy'], ['Còn', 'tiền', 'không']]\n"
          ],
          "name": "stdout"
        }
      ]
    },
    {
      "cell_type": "code",
      "metadata": {
        "id": "Sm-5dT5MP9Kj"
      },
      "source": [
        "import pandas as pd\n",
        "train_set = pd.Series([\"The sky is blue.\", \"The sun is bright.\"])\n",
        "train_set"
      ],
      "execution_count": 20,
      "outputs": []
    },
    {
      "cell_type": "code",
      "metadata": {
        "colab": {
          "base_uri": "https://localhost:8080/"
        },
        "id": "OQDDU6l-Q92g",
        "outputId": "2b14e4f0-a3d6-4c58-bd86-e891e860d320"
      },
      "source": [
        "train_set = pd.Series(question_train)\n",
        "train_set"
      ],
      "execution_count": 31,
      "outputs": [
        {
          "output_type": "execute_result",
          "data": {
            "text/plain": [
              "0                         Thích đánh_lộn không \n",
              "1                              Solo yasua không\n",
              "2                          Mai đi picnic không \n",
              "3                           Mai học ca mấy vậy \n",
              "4                               Còn tiền không \n",
              "                         ...                   \n",
              "5605        Bạn cho mình hỏi bạn muốn ăn_ở đâu \n",
              "5606           Bạn cho mình hỏi bạn muốn ăn gì \n",
              "5607          Bạn cho mình hỏi bạn rủ ai không \n",
              "5608    Bạn cho mình hỏi bạn có ai để rủ không \n",
              "5609     Vậy chúng_mình đi luôn được không bạn \n",
              "Length: 5610, dtype: object"
            ]
          },
          "metadata": {
            "tags": []
          },
          "execution_count": 31
        }
      ]
    },
    {
      "cell_type": "code",
      "metadata": {
        "id": "Ac_Xf2omRzz8"
      },
      "source": [
        "from sklearn.feature_extraction.text import TfidfVectorizer\n",
        "from sklearn.metrics.pairwise import cosine_similarity  "
      ],
      "execution_count": 32,
      "outputs": []
    },
    {
      "cell_type": "code",
      "metadata": {
        "colab": {
          "base_uri": "https://localhost:8080/"
        },
        "id": "VMOgnfWwShFa",
        "outputId": "5a9d07b1-708d-4c21-a302-6cf948806111"
      },
      "source": [
        "test_set = pd.Series([\"Bạn học ngành gì?\"])\n",
        "test_set"
      ],
      "execution_count": 51,
      "outputs": [
        {
          "output_type": "execute_result",
          "data": {
            "text/plain": [
              "0    Bạn học ngành gì?\n",
              "dtype: object"
            ]
          },
          "metadata": {
            "tags": []
          },
          "execution_count": 51
        }
      ]
    },
    {
      "cell_type": "code",
      "metadata": {
        "id": "o6PG88I0RCPX"
      },
      "source": [
        "\n",
        "tokenizer = TfidfVectorizer()\n",
        "train_tfidf = tokenizer.fit_transform(train_set)\n",
        "new_tfidf = tokenizer.transform(test_set)\n"
      ],
      "execution_count": 52,
      "outputs": []
    },
    {
      "cell_type": "code",
      "metadata": {
        "colab": {
          "base_uri": "https://localhost:8080/",
          "height": 35
        },
        "id": "n2HvbGYiSGIu",
        "outputId": "f8f678f8-aff7-42df-de32-a9b96a99ec67"
      },
      "source": [
        "X = pd.DataFrame(cosine_similarity(new_tfidf, train_tfidf), columns=train_set.index)\n",
        "X['ix_new'] = test_set.index\n",
        "score = pd.melt(\n",
        "        X,\n",
        "        id_vars='ix_new',\n",
        "        var_name='ix_train',\n",
        "        value_name='score'\n",
        "    )\n",
        "column = score[\"score\"]\n",
        "max_value = column.idxmax()\n",
        "train_set[max_value]\n",
        "\n"
      ],
      "execution_count": 56,
      "outputs": [
        {
          "output_type": "execute_result",
          "data": {
            "application/vnd.google.colaboratory.intrinsic+json": {
              "type": "string"
            },
            "text/plain": [
              "'Bạn học ngành gì '"
            ]
          },
          "metadata": {
            "tags": []
          },
          "execution_count": 56
        }
      ]
    },
    {
      "cell_type": "code",
      "metadata": {
        "colab": {
          "base_uri": "https://localhost:8080/",
          "height": 35
        },
        "id": "2eGT2etYSugQ",
        "outputId": "55153b0d-35ab-4c17-9c86-a948a4216f53"
      },
      "source": [
        "answer_train[max_value]"
      ],
      "execution_count": 55,
      "outputs": [
        {
          "output_type": "execute_result",
          "data": {
            "application/vnd.google.colaboratory.intrinsic+json": {
              "type": "string"
            },
            "text/plain": [
              "'Tớ học ngành Kỹ_thuật phần_mềm'"
            ]
          },
          "metadata": {
            "tags": []
          },
          "execution_count": 55
        }
      ]
    },
    {
      "cell_type": "code",
      "metadata": {
        "id": "J6n1_sMqUOMX"
      },
      "source": [
        ""
      ],
      "execution_count": null,
      "outputs": []
    }
  ]
}