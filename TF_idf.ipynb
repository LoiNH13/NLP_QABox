{
  "nbformat": 4,
  "nbformat_minor": 0,
  "metadata": {
    "colab": {
      "name": "TF_idf.ipynb",
      "provenance": []
    },
    "kernelspec": {
      "name": "python3",
      "display_name": "Python 3"
    },
    "language_info": {
      "name": "python"
    }
  },
  "cells": [
    {
      "cell_type": "code",
      "metadata": {
        "colab": {
          "base_uri": "https://localhost:8080/"
        },
        "id": "7eGku9vcO3Eg",
        "outputId": "95dba7ea-6dce-4222-ed92-1610522059e4"
      },
      "source": [
        "pip install pyvi"
      ],
      "execution_count": null,
      "outputs": []
    },
    {
      "cell_type": "code",
      "metadata": {
        "id": "FrKZmklQOgTQ"
      },
      "source": [
        "\n",
        "import nltk\n",
        "import numpy as np\n",
        "from pyvi import ViTokenizer\n"
      ],
      "execution_count": null,
      "outputs": []
    },
    {
      "cell_type": "code",
      "metadata": {
        "id": "9c8mva4fOhPO"
      },
      "source": [
        "file_tranning = ['trò chuyện về đi ăn.txt']"
      ],
      "execution_count": null,
      "outputs": []
    },
    {
      "cell_type": "code",
      "metadata": {
        "id": "FYZfok4aO68n"
      },
      "source": [
        "question_train = []\n",
        "answer_train = []\n",
        "for i in range(len(file_tranning)):\n",
        "    with open(file_tranning[i], encoding='UTF-8') as f:\n",
        "        train_lines = f.readlines()\n",
        "        for line in train_lines:\n",
        "            tmp = line.split(\"__eou__\")\n",
        "            question_train.append(tmp[0].strip()) # strip(): Loại bỏ whitespace đầu cuối string\n",
        "            answer_train.append(tmp[1].strip())"
      ],
      "execution_count": null,
      "outputs": []
    },
    {
      "cell_type": "code",
      "metadata": {
        "id": "3Utuuhl3PIQe"
      },
      "source": [
        "for i in range(len(question_train)):\n",
        "    question_train[i] = ViTokenizer.tokenize(question_train[i])\n",
        "    answer_train[i] = ViTokenizer.tokenize(answer_train[i])"
      ],
      "execution_count": null,
      "outputs": []
    },
    {
      "cell_type": "code",
      "metadata": {
        "id": "pOysqPNQPKvA"
      },
      "source": [
        "import string\n",
        "my_punctuation = (string.punctuation).replace(\"_\",\"\")"
      ],
      "execution_count": null,
      "outputs": []
    },
    {
      "cell_type": "code",
      "metadata": {
        "id": "NAdiFey7PnzP"
      },
      "source": [
        "def text_process(mess):\n",
        "#     STOPWORDS = stopwords\n",
        "    nopunc = [char for char in mess if char not in my_punctuation]\n",
        "#     nopunc = ''.join(nopunc)\n",
        "    return  ''.join(nopunc)\n",
        "#     return ' '.join([word for word in nopunc.split() if word.lower() not in STOPWORDS])"
      ],
      "execution_count": null,
      "outputs": []
    },
    {
      "cell_type": "code",
      "metadata": {
        "id": "38UF-_7SPskN"
      },
      "source": [
        "for i in range(len(question_train)):\n",
        "    question_train[i] = text_process(question_train[i])\n",
        "    answer_train[i] = text_process(answer_train[i])"
      ],
      "execution_count": null,
      "outputs": []
    },
    {
      "cell_type": "code",
      "metadata": {
        "colab": {
          "base_uri": "https://localhost:8080/"
        },
        "id": "vxyYjKE4Puzp",
        "outputId": "8581a7c3-dd9c-44bf-95b3-567238702ce0"
      },
      "source": [
        "print(question_train[0])\n",
        "print(answer_train[0])"
      ],
      "execution_count": null,
      "outputs": []
    },
    {
      "cell_type": "code",
      "metadata": {
        "colab": {
          "base_uri": "https://localhost:8080/"
        },
        "id": "I-diNgNtP4fJ",
        "outputId": "1bf803b2-b6b9-41b0-c023-fe965b6d0eea"
      },
      "source": [
        "nltk.download('punkt')"
      ],
      "execution_count": null,
      "outputs": []
    },
    {
      "cell_type": "code",
      "metadata": {
        "id": "76Tjj1INPxB9"
      },
      "source": [
        "from nltk import word_tokenize\n",
        "sents=[]\n",
        "for i in range(len(question_train)):\n",
        "    tokens = word_tokenize(question_train[i])\n",
        "    sents.append(tokens)"
      ],
      "execution_count": null,
      "outputs": []
    },
    {
      "cell_type": "code",
      "metadata": {
        "colab": {
          "base_uri": "https://localhost:8080/"
        },
        "id": "bIAaR-D_P12g",
        "outputId": "327b807d-2e40-4e37-85ab-9ca53155e241"
      },
      "source": [
        "print(sents[:5])"
      ],
      "execution_count": null,
      "outputs": []
    },
    {
      "cell_type": "code",
      "metadata": {
        "id": "Sm-5dT5MP9Kj"
      },
      "source": [
        "import pandas as pd\n",
        "train_set = pd.Series([\"The sky is blue.\", \"The sun is bright.\"])\n",
        "train_set"
      ],
      "execution_count": null,
      "outputs": []
    },
    {
      "cell_type": "code",
      "metadata": {
        "colab": {
          "base_uri": "https://localhost:8080/"
        },
        "id": "OQDDU6l-Q92g",
        "outputId": "2b14e4f0-a3d6-4c58-bd86-e891e860d320"
      },
      "source": [
        "train_set = pd.Series(question_train)\n",
        "train_set"
      ],
      "execution_count": null,
      "outputs": []
    },
    {
      "cell_type": "code",
      "metadata": {
        "id": "Ac_Xf2omRzz8"
      },
      "source": [
        "from sklearn.feature_extraction.text import TfidfVectorizer\n",
        "from sklearn.metrics.pairwise import cosine_similarity  "
      ],
      "execution_count": null,
      "outputs": []
    },
    {
      "cell_type": "code",
      "metadata": {
        "colab": {
          "base_uri": "https://localhost:8080/"
        },
        "id": "VMOgnfWwShFa",
        "outputId": "5a9d07b1-708d-4c21-a302-6cf948806111"
      },
      "source": [
        "test_set = pd.Series([\"Bạn học ngành gì?\"])\n",
        "test_set"
      ],
      "execution_count": null,
      "outputs": []
    },
    {
      "cell_type": "code",
      "metadata": {
        "id": "o6PG88I0RCPX"
      },
      "source": [
        "\n",
        "tokenizer = TfidfVectorizer()\n",
        "train_tfidf = tokenizer.fit_transform(train_set)\n",
        "new_tfidf = tokenizer.transform(test_set)\n"
      ],
      "execution_count": null,
      "outputs": []
    },
    {
      "cell_type": "code",
      "metadata": {
        "colab": {
          "base_uri": "https://localhost:8080/",
          "height": 35
        },
        "id": "n2HvbGYiSGIu",
        "outputId": "f8f678f8-aff7-42df-de32-a9b96a99ec67"
      },
      "source": [
        "X = pd.DataFrame(cosine_similarity(new_tfidf, train_tfidf), columns=train_set.index)\n",
        "X['ix_new'] = test_set.index\n",
        "score = pd.melt(\n",
        "        X,\n",
        "        id_vars='ix_new',\n",
        "        var_name='ix_train',\n",
        "        value_name='score'\n",
        "    )\n",
        "column = score[\"score\"]\n",
        "max_value = column.idxmax()\n",
        "train_set[max_value]\n",
        "\n"
      ],
      "execution_count": null,
      "outputs": []
    },
    {
      "cell_type": "code",
      "metadata": {
        "colab": {
          "base_uri": "https://localhost:8080/",
          "height": 35
        },
        "id": "2eGT2etYSugQ",
        "outputId": "55153b0d-35ab-4c17-9c86-a948a4216f53"
      },
      "source": [
        "answer_train[max_value]"
      ],
      "execution_count": null,
      "outputs": []
    },
    {
      "cell_type": "code",
      "metadata": {
        "id": "J6n1_sMqUOMX"
      },
      "source": [],
      "execution_count": null,
      "outputs": []
    }
  ]
}